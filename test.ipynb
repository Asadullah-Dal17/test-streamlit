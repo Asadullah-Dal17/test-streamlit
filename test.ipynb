{
 "cells": [
  {
   "cell_type": "code",
   "execution_count": 1,
   "metadata": {},
   "outputs": [],
   "source": [
    "import youtubeAPI\n",
    "import streamlit as st \n",
    "\n",
    "api_key = st.secrets[\"YOUTUBE_API_KEY\"]\n",
    "yt_api = youtubeAPI.YoutubeAPI(api_key=api_key, channel_id=\"UCc8Lx22a5OX4XMxrCykzjbA\")"
   ]
  },
  {
   "cell_type": "code",
   "execution_count": 2,
   "metadata": {},
   "outputs": [
    {
     "data": {
      "text/plain": [
       "{'subscriber_count': '3580', 'view_count': '436382', 'video_count': '70'}"
      ]
     },
     "execution_count": 2,
     "metadata": {},
     "output_type": "execute_result"
    }
   ],
   "source": [
    "respones = yt_api.get_response_from_youtube_api()\n",
    "yt_api.get_basic_statics()  "
   ]
  },
  {
   "cell_type": "code",
   "execution_count": 4,
   "metadata": {},
   "outputs": [
    {
     "data": {
      "text/plain": [
       "{'logo': 'https://yt3.ggpht.com/nm3kNcSG7fHkrwfmpP8k22ibeSpuql9mJRkNSFsltfzz-YnxOb1tp_4SN7z6rZho-7Lxt9IGeQ=s800-c-k-c0x00ffffff-no-rj',\n",
       " 'banner': 'https://yt3.googleusercontent.com/VFV3VDMQ5-7o9IRTYRexW8omHBW6pOu7SoXtTJPDHnr9v8sRCIkV6qfct8zgihveEpeBEjzM_g'}"
      ]
     },
     "execution_count": 4,
     "metadata": {},
     "output_type": "execute_result"
    }
   ],
   "source": [
    "yt_api.get_channel_images()"
   ]
  },
  {
   "cell_type": "code",
   "execution_count": 6,
   "metadata": {},
   "outputs": [],
   "source": [
    "id_list =yt_api.get_all_video_ids_from_playlist()"
   ]
  },
  {
   "cell_type": "code",
   "execution_count": 7,
   "metadata": {},
   "outputs": [
    {
     "data": {
      "text/plain": [
       "140"
      ]
     },
     "execution_count": 7,
     "metadata": {},
     "output_type": "execute_result"
    }
   ],
   "source": [
    "len(id_list)"
   ]
  },
  {
   "cell_type": "markdown",
   "metadata": {},
   "source": []
  }
 ],
 "metadata": {
  "kernelspec": {
   "display_name": ".venv",
   "language": "python",
   "name": "python3"
  },
  "language_info": {
   "codemirror_mode": {
    "name": "ipython",
    "version": 3
   },
   "file_extension": ".py",
   "mimetype": "text/x-python",
   "name": "python",
   "nbconvert_exporter": "python",
   "pygments_lexer": "ipython3",
   "version": "3.10.10"
  }
 },
 "nbformat": 4,
 "nbformat_minor": 2
}
